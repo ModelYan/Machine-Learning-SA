{
 "cells": [
  {
   "cell_type": "code",
   "execution_count": null,
   "id": "4717c951",
   "metadata": {},
   "outputs": [],
   "source": [
    "! pip3 install --upgrade tensorflow"
   ]
  },
  {
   "cell_type": "code",
   "execution_count": null,
   "id": "50379ad1",
   "metadata": {},
   "outputs": [],
   "source": [
    "import numpy as np\n",
    "import tensorflow as tf\n",
    "#tf.enable_eager_execution()\n",
    "train, test = tf.keras.datasets.fashion_mnist.load_data()\n",
    "images, labels = train\n",
    "labels = labels.astype(np.int32)\n",
    "images = images/256  \n",
    "train_ds = tf.data.Dataset.from_tensor_slices((images, labels))\n",
    "train_ds = train_ds.batch(32)"
   ]
  },
  {
   "cell_type": "code",
   "execution_count": null,
   "id": "a37f37f4",
   "metadata": {},
   "outputs": [],
   "source": [
    "#tf.enable_eager_execution()\n",
    "train, test = tf.keras.datasets.fashion_mnist.load_data()\n",
    "images, labels = train\n",
    "labels = labels.astype(np.int32)\n",
    "images = images/256  \n",
    "train_ds = tf.data.Dataset.from_tensor_slices((images, labels))\n",
    "train_ds = train_ds.batch(32)"
   ]
  }
 ],
 "metadata": {
  "kernelspec": {
   "display_name": "Python 3 (ipykernel)",
   "language": "python",
   "name": "python3"
  },
  "language_info": {
   "codemirror_mode": {
    "name": "ipython",
    "version": 3
   },
   "file_extension": ".py",
   "mimetype": "text/x-python",
   "name": "python",
   "nbconvert_exporter": "python",
   "pygments_lexer": "ipython3",
   "version": "3.9.5"
  }
 },
 "nbformat": 4,
 "nbformat_minor": 5
}
